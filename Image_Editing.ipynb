{
 "cells": [
  {
   "cell_type": "markdown",
   "metadata": {},
   "source": [
    "## Converting images\n",
    "\n",
    "WEBP to PNG"
   ]
  },
  {
   "cell_type": "code",
   "execution_count": null,
   "metadata": {},
   "outputs": [],
   "source": [
    "from PIL import Image\n",
    "import os\n",
    "\n",
    "def convert_webp_to_png(input_folder, output_folder):\n",
    "    \"\"\"\n",
    "    Converts all .webp images in the input_folder to .png format\n",
    "    and saves them in the output_folder.\n",
    "\n",
    "    :param input_folder: Folder containing .webp images.\n",
    "    :param output_folder: Folder to save the .png images.\n",
    "    \"\"\"\n",
    "    # Create the output folder if it doesn't exist\n",
    "    os.makedirs(output_folder, exist_ok=True)\n",
    "\n",
    "    # Iterate through all files in the input folder\n",
    "    for file_name in os.listdir(input_folder):\n",
    "        if file_name.endswith(\".webp\"):\n",
    "            # Full path of the input .webp file\n",
    "            input_path = os.path.join(input_folder, file_name)\n",
    "\n",
    "            # Open the .webp image\n",
    "            with Image.open(input_path) as img:\n",
    "                # Remove .webp extension and add .png\n",
    "                output_file_name = os.path.splitext(file_name)[0] + \".png\"\n",
    "                output_path = os.path.join(output_folder, output_file_name)\n",
    "\n",
    "                # Save as .png\n",
    "                img.save(output_path, \"PNG\")\n",
    "                print(f\"Converted: {input_path} -> {output_path}\")\n",
    "\n",
    "# Example usage\n",
    "input_folder = \"imageconvert\\\\WEBP\\\\\"  # Replace with the path to your .webp images\n",
    "output_folder = \"imageconvert\\\\PNG\\\\\"  # Replace with the path to save .png images\n",
    "convert_webp_to_png(input_folder, output_folder)"
   ]
  },
  {
   "cell_type": "markdown",
   "metadata": {},
   "source": [
    "-------------------------------------------------------------------------------------------------------------------"
   ]
  },
  {
   "cell_type": "markdown",
   "metadata": {},
   "source": [
    "\n",
    "\n",
    "\n",
    "## File Renaming\n",
    "\n",
    "Clas Ohlson Image renaming style"
   ]
  },
  {
   "cell_type": "code",
   "execution_count": 4,
   "metadata": {},
   "outputs": [
    {
     "name": "stdout",
     "output_type": "stream",
     "text": [
      "Renamed: Lego images\\317853000\\31-7853_1.png -> Lego images\\317853000\\31-7853_1.png\n",
      "Renamed: Lego images\\317853000\\31-7853_2.png -> Lego images\\317853000\\31-7853_2.png\n"
     ]
    },
    {
     "ename": "PermissionError",
     "evalue": "[WinError 32] The process cannot access the file because it is being used by another process: 'Lego images\\\\317853000\\\\42200_Box3_v29.png' -> 'Lego images\\\\317853000\\\\31-7853_3.png'",
     "output_type": "error",
     "traceback": [
      "\u001b[1;31m---------------------------------------------------------------------------\u001b[0m",
      "\u001b[1;31mPermissionError\u001b[0m                           Traceback (most recent call last)",
      "Cell \u001b[1;32mIn[4], line 46\u001b[0m\n\u001b[0;32m     42\u001b[0m \u001b[38;5;28;01mif\u001b[39;00m \u001b[38;5;18m__name__\u001b[39m \u001b[38;5;241m==\u001b[39m \u001b[38;5;124m\"\u001b[39m\u001b[38;5;124m__main__\u001b[39m\u001b[38;5;124m\"\u001b[39m:\n\u001b[0;32m     43\u001b[0m     \u001b[38;5;66;03m# Set the path to your 'images' folder\u001b[39;00m\n\u001b[0;32m     44\u001b[0m     parent_folder \u001b[38;5;241m=\u001b[39m \u001b[38;5;124m'\u001b[39m\u001b[38;5;124mLego images\u001b[39m\u001b[38;5;130;01m\\\\\u001b[39;00m\u001b[38;5;124m'\u001b[39m\n\u001b[1;32m---> 46\u001b[0m     \u001b[43mrename_images_in_folders\u001b[49m\u001b[43m(\u001b[49m\u001b[43mparent_folder\u001b[49m\u001b[43m)\u001b[49m\n",
      "Cell \u001b[1;32mIn[4], line 39\u001b[0m, in \u001b[0;36mrename_images_in_folders\u001b[1;34m(parent_folder)\u001b[0m\n\u001b[0;32m     36\u001b[0m new_file_path \u001b[38;5;241m=\u001b[39m os\u001b[38;5;241m.\u001b[39mpath\u001b[38;5;241m.\u001b[39mjoin(folder_path, new_name)\n\u001b[0;32m     38\u001b[0m \u001b[38;5;66;03m# Rename the file\u001b[39;00m\n\u001b[1;32m---> 39\u001b[0m \u001b[43mos\u001b[49m\u001b[38;5;241;43m.\u001b[39;49m\u001b[43mrename\u001b[49m\u001b[43m(\u001b[49m\u001b[43mold_file_path\u001b[49m\u001b[43m,\u001b[49m\u001b[43m \u001b[49m\u001b[43mnew_file_path\u001b[49m\u001b[43m)\u001b[49m\n\u001b[0;32m     40\u001b[0m \u001b[38;5;28mprint\u001b[39m(\u001b[38;5;124mf\u001b[39m\u001b[38;5;124m\"\u001b[39m\u001b[38;5;124mRenamed: \u001b[39m\u001b[38;5;132;01m{\u001b[39;00mold_file_path\u001b[38;5;132;01m}\u001b[39;00m\u001b[38;5;124m -> \u001b[39m\u001b[38;5;132;01m{\u001b[39;00mnew_file_path\u001b[38;5;132;01m}\u001b[39;00m\u001b[38;5;124m\"\u001b[39m)\n",
      "\u001b[1;31mPermissionError\u001b[0m: [WinError 32] The process cannot access the file because it is being used by another process: 'Lego images\\\\317853000\\\\42200_Box3_v29.png' -> 'Lego images\\\\317853000\\\\31-7853_3.png'"
     ]
    }
   ],
   "source": [
    "import os\n",
    "\n",
    "def rename_images_in_folders(parent_folder):\n",
    "    # Traverse all folders in the parent directory\n",
    "    for folder_name in os.listdir(parent_folder):\n",
    "        folder_path = os.path.join(parent_folder, folder_name)\n",
    "        \n",
    "        # Check if it is a directory\n",
    "        if os.path.isdir(folder_path):\n",
    "            # Ensure folder name is a 9-digit number\n",
    "            if len(folder_name) == 9 and folder_name.isdigit():\n",
    "                # Extract parts of the folder name\n",
    "                first_two_digits = folder_name[:2]\n",
    "                next_four_digits = folder_name[2:6]\n",
    "                last_three_digits = folder_name[6:]\n",
    "\n",
    "                # Get all image files in the folder\n",
    "                image_files = [f for f in os.listdir(folder_path) if f.lower().endswith(('.jpg', '.jpeg', '.png', '.gif', '.webp', '.avif'))]\n",
    "                \n",
    "                # Sort image files if necessary (optional)\n",
    "                image_files.sort()\n",
    "                \n",
    "                # Rename each image file\n",
    "                for index, image_file in enumerate(image_files, start=1):\n",
    "                    file_extension = os.path.splitext(image_file)[1]\n",
    "                    \n",
    "                    # Renaming logic based on the folder name\n",
    "                    if last_three_digits == '000':\n",
    "                        # Folder name ends in '000'\n",
    "                        new_name = f\"{first_two_digits}-{next_four_digits}_{index}{file_extension}\"\n",
    "                    else:\n",
    "                        # Folder name has a non-zero last three digits\n",
    "                        new_name = f\"{first_two_digits}-{next_four_digits}-{int(last_three_digits)}_{index}{file_extension}\"\n",
    "                    \n",
    "                    old_file_path = os.path.join(folder_path, image_file)\n",
    "                    new_file_path = os.path.join(folder_path, new_name)\n",
    "                    \n",
    "                    # Rename the file\n",
    "                    os.rename(old_file_path, new_file_path)\n",
    "                    print(f\"Renamed: {old_file_path} -> {new_file_path}\")\n",
    "\n",
    "if __name__ == \"__main__\":\n",
    "    # Set the path to your 'images' folder\n",
    "    parent_folder = 'Lego\\\\'\n",
    "    \n",
    "    rename_images_in_folders(parent_folder)"
   ]
  },
  {
   "cell_type": "markdown",
   "metadata": {},
   "source": [
    "--------------------------------------------------------------------------------------------------------------------"
   ]
  },
  {
   "cell_type": "markdown",
   "metadata": {},
   "source": [
    "## Remove Background\n",
    "\n",
    "Remove background from images and save them as PNG\n"
   ]
  },
  {
   "cell_type": "code",
   "execution_count": null,
   "metadata": {},
   "outputs": [],
   "source": [
    "from rembg import remove\n",
    "from PIL import Image\n",
    "import os\n",
    "\n",
    "input_folder = \"removeBackground\\\\input\\\\\"\n",
    "output_folder = \"removeBackground\\\\output\\\\\"\n",
    "\n",
    "for filename in os.listdir(input_folder):\n",
    "    if filename.lower().endswith(('avif','.jpg', '.jpeg')):  # Supported file types\n",
    "        input_path = os.path.join(input_folder, filename)\n",
    "        output_path = os.path.join(output_folder, filename)  # Save with the same name\n",
    "\n",
    "        try:\n",
    "            input = Image.open(input_path)\n",
    "            output = remove(input)\n",
    "            output.save(output_path, \"PNG\")\n",
    "            print(f\"Processed and saved: {output_path}\")\n",
    "        except Exception as e:\n",
    "            print(f\"Error processing {filename}: {e}\")\n"
   ]
  },
  {
   "cell_type": "markdown",
   "metadata": {},
   "source": [
    "-------------------------------------------------------------------------------------------------------------------"
   ]
  },
  {
   "cell_type": "markdown",
   "metadata": {},
   "source": [
    "## Resizing image - Square\n",
    "\n",
    "Resize image to 1:1 ratio and save as PNG"
   ]
  },
  {
   "cell_type": "code",
   "execution_count": null,
   "metadata": {},
   "outputs": [],
   "source": [
    "import os\n",
    "from PIL import Image, ImageOps\n",
    "import pillow_avif  # Ensure this plugin is installed for AVIF support\n",
    "\n",
    "# Input and output directories\n",
    "input_folder = \"imageResizing\\\\beforeResize\\\\\"\n",
    "output_folder = \"imageResizing\\\\afterResize\\\\\"\n",
    "\n",
    "# Define the padding multiplier\n",
    "padding_multiplier = 2.0\n",
    "\n",
    "# Create output folder if it doesn't exist\n",
    "os.makedirs(output_folder, exist_ok=True)\n",
    "\n",
    "# Process each file in the input folder\n",
    "for filename in os.listdir(input_folder):\n",
    "    if filename.lower().endswith(('.avif', '.jpg', '.jpeg', '.png')):  # Supported file types\n",
    "        input_path = os.path.join(input_folder, filename)\n",
    "        output_path = os.path.join(output_folder, filename)  # Save with the same name\n",
    "        \n",
    "        try:\n",
    "            # Open the image\n",
    "            image = Image.open(input_path)\n",
    "\n",
    "            # Get original dimensions\n",
    "            width, height = image.size\n",
    "\n",
    "            # Calculate new canvas size (largest side * multiplier)\n",
    "            new_size = int(max(width, height) * padding_multiplier)\n",
    "\n",
    "            # Create a new image with white background\n",
    "            new_image = Image.new(\"RGB\", (new_size, new_size), (255, 255, 255))\n",
    "\n",
    "            # Paste the original image centered on the new canvas\n",
    "            new_image.paste(image, ((new_size - width) // 2, (new_size - height) // 2))\n",
    "\n",
    "            # Save the resulting image\n",
    "            new_image.save(output_path)\n",
    "\n",
    "            print(f\"Processed and saved: {output_path}\")\n",
    "        except Exception as e:\n",
    "            print(f\"Error processing {filename}: {e}\")\n"
   ]
  },
  {
   "cell_type": "markdown",
   "metadata": {},
   "source": [
    "-------------------------------------------------------------------------------------------------------"
   ]
  },
  {
   "cell_type": "markdown",
   "metadata": {},
   "source": [
    "## Extract Images \n",
    "\n",
    "Unzip and save images in different folders"
   ]
  },
  {
   "cell_type": "code",
   "execution_count": null,
   "metadata": {},
   "outputs": [],
   "source": [
    "import os\n",
    "import zipfile\n",
    "\n",
    "def extract_zip_to_folders(zip_folder, output_folder):\n",
    "    \"\"\"\n",
    "    Extracts all .zip files in the zip_folder to separate subfolders\n",
    "    in the output_folder, named after the zip file.\n",
    "\n",
    "    :param zip_folder: Folder containing .zip files.\n",
    "    :param output_folder: Folder to extract the contents to.\n",
    "    \"\"\"\n",
    "    # Ensure the output folder exists\n",
    "    os.makedirs(output_folder, exist_ok=True)\n",
    "\n",
    "    # Iterate through all files in the zip_folder\n",
    "    for file_name in os.listdir(zip_folder):\n",
    "        if file_name.endswith(\".zip\"):\n",
    "            zip_path = os.path.join(zip_folder, file_name)\n",
    "\n",
    "            # Create a subfolder named after the zip file (without extension)\n",
    "            folder_name = os.path.splitext(file_name)[0]\n",
    "            extract_path = os.path.join(output_folder, folder_name)\n",
    "            os.makedirs(extract_path, exist_ok=True)\n",
    "\n",
    "            # Extract the zip file into the created folder\n",
    "            with zipfile.ZipFile(zip_path, 'r') as zip_ref:\n",
    "                zip_ref.extractall(extract_path)\n",
    "                print(f\"Extracted: {zip_path} -> {extract_path}\")\n",
    "\n",
    "# Example usage\n",
    "zip_folder = \"File Unzip\\\\Compressed_Zips\"  # Folder containing zip files\n",
    "output_folder = \"File Unzip\\\\Extracted_Files\"  # Folder to extract contents\n",
    "extract_zip_to_folders(zip_folder, output_folder)\n"
   ]
  }
 ],
 "metadata": {
  "kernelspec": {
   "display_name": "Python 3",
   "language": "python",
   "name": "python3"
  },
  "language_info": {
   "codemirror_mode": {
    "name": "ipython",
    "version": 3
   },
   "file_extension": ".py",
   "mimetype": "text/x-python",
   "name": "python",
   "nbconvert_exporter": "python",
   "pygments_lexer": "ipython3",
   "version": "3.12.7"
  }
 },
 "nbformat": 4,
 "nbformat_minor": 2
}
